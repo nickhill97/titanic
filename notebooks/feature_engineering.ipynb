{
 "cells": [
  {
   "cell_type": "markdown",
   "metadata": {},
   "source": [
    "# Feature Engineering"
   ]
  },
  {
   "cell_type": "markdown",
   "metadata": {},
   "source": [
    "My aim in this file is to create useful features for modelling and to put features in a form that a machine learning algorithm can accept. I will do this by:\n",
    "\n",
    "- Creating categorical columns from text data.\n",
    "- Change representation of current features (nominal data to ordinal, create dummy variables, etc.).\n",
    "- Create interaction variables."
   ]
  },
  {
   "cell_type": "code",
   "execution_count": 16,
   "metadata": {},
   "outputs": [],
   "source": [
    "import numpy as np\n",
    "import pandas as pd\n",
    "\n",
    "from pathlib import Path\n",
    "import re"
   ]
  },
  {
   "cell_type": "code",
   "execution_count": 17,
   "metadata": {},
   "outputs": [],
   "source": [
    "DATA_PATH = Path('../data/processed/')\n",
    "training_df = pd.read_csv(DATA_PATH/'cleaned_training.csv')\n",
    "test_df = pd.read_csv(DATA_PATH/'cleaned_test.csv')"
   ]
  },
  {
   "cell_type": "markdown",
   "metadata": {},
   "source": [
    "I will start by producing a deck column based on the cabin the passenger was staying in. From my research I have found there was decks A-G, which I will convert to numeric ordinal data. Any missing values I will value 8. We have one cabin in the training data on deck 'T', this could either refer to the bottom deck (tank top), though this deck didn't have cabins, or it could be a mistake. I will treat this cabin as a missing value."
   ]
  },
  {
   "cell_type": "code",
   "execution_count": 18,
   "metadata": {},
   "outputs": [],
   "source": [
    "def get_deck(dataframe):\n",
    "    \"\"\"\n",
    "    Returns dataframe with ordinal column 'Deck' based on Cabin column and removes Cabin column.\n",
    "    \"\"\"\n",
    "    decks = {'A': 1, 'B': 2, 'C': 3, 'D': 4, 'E': 5, 'F': 6, 'G': 7}\n",
    "    dataframe['Deck'] = dataframe['Cabin'].fillna('X').apply(lambda x: re.compile('[a-zA-Z]+').search(x).group())\n",
    "    dataframe['Deck'] = dataframe['Deck'].map(decks)\n",
    "    dataframe['Deck'] = dataframe['Deck'].fillna(8).astype('int32')\n",
    "    \n",
    "    return dataframe.drop('Cabin', axis=1)"
   ]
  },
  {
   "cell_type": "code",
   "execution_count": 19,
   "metadata": {},
   "outputs": [],
   "source": [
    "training_df = get_deck(training_df)\n",
    "test_df = get_deck(test_df)"
   ]
  },
  {
   "cell_type": "markdown",
   "metadata": {},
   "source": [
    "Now I will combine SibSp and Parch to produce a relatives column."
   ]
  },
  {
   "cell_type": "code",
   "execution_count": 20,
   "metadata": {},
   "outputs": [],
   "source": [
    "training_df['Relatives'] = training_df['SibSp'] + training_df['Parch']\n",
    "test_df['Relatives'] = test_df['SibSp'] + test_df['Parch']"
   ]
  },
  {
   "cell_type": "markdown",
   "metadata": {},
   "source": [
    "Now let's analyse the name column and see if we can isolate the passengers title. This could give us an idea of a passengers 'importance', marital status, age or perhaps something else."
   ]
  },
  {
   "cell_type": "code",
   "execution_count": 21,
   "metadata": {},
   "outputs": [
    {
     "data": {
      "text/plain": [
       "0                                Braund, Mr. Owen Harris\n",
       "1      Cumings, Mrs. John Bradley (Florence Briggs Th...\n",
       "2                                 Heikkinen, Miss. Laina\n",
       "3           Futrelle, Mrs. Jacques Heath (Lily May Peel)\n",
       "4                               Allen, Mr. William Henry\n",
       "                             ...                        \n",
       "886                                Montvila, Rev. Juozas\n",
       "887                         Graham, Miss. Margaret Edith\n",
       "888             Johnston, Miss. Catherine Helen \"Carrie\"\n",
       "889                                Behr, Mr. Karl Howell\n",
       "890                                  Dooley, Mr. Patrick\n",
       "Name: Name, Length: 891, dtype: object"
      ]
     },
     "execution_count": 21,
     "metadata": {},
     "output_type": "execute_result"
    }
   ],
   "source": [
    "training_df['Name']"
   ]
  },
  {
   "cell_type": "markdown",
   "metadata": {},
   "source": [
    "It appears that all the titles are followed by '.', we can use this to try to isolate the title. "
   ]
  },
  {
   "cell_type": "code",
   "execution_count": 22,
   "metadata": {},
   "outputs": [
    {
     "data": {
      "text/plain": [
       "Mr          517\n",
       "Miss        182\n",
       "Mrs         125\n",
       "Master       40\n",
       "Dr            7\n",
       "Rev           6\n",
       "Mlle          2\n",
       "Col           2\n",
       "Major         2\n",
       "Ms            1\n",
       "Lady          1\n",
       "Capt          1\n",
       "Jonkheer      1\n",
       "Countess      1\n",
       "Mme           1\n",
       "Sir           1\n",
       "Don           1\n",
       "Name: Name, dtype: int64"
      ]
     },
     "execution_count": 22,
     "metadata": {},
     "output_type": "execute_result"
    }
   ],
   "source": [
    "# Isolate all word characters directly before '.'\n",
    "training_df['Name'].apply(lambda x: re.compile('\\w+(?=\\.)').search(x).group()).value_counts()"
   ]
  },
  {
   "cell_type": "markdown",
   "metadata": {},
   "source": [
    "Most of our data is contained within the four most common titles, hence I will only include these as categories and group the other variations as 'Other'."
   ]
  },
  {
   "cell_type": "code",
   "execution_count": 23,
   "metadata": {},
   "outputs": [],
   "source": [
    "def get_passenger_title(dataframe):\n",
    "    \"\"\"\n",
    "    Returns dataframe with 'Title' column created from Name and removes Name. Title destinguishes the four \n",
    "    most common titles and categorises anything else as Other.\n",
    "    \"\"\"\n",
    "    dataframe['Title'] = dataframe['Name'].apply(lambda x: re.compile('\\w+(?=\\.)').search(x).group())\n",
    "    titles = {v:v for v in ['Mr', 'Miss', 'Mrs', 'Master']}\n",
    "    dataframe['Title'] = dataframe['Title'].map(titles).fillna('Other')\n",
    "    \n",
    "    return dataframe.drop('Name', axis=1)"
   ]
  },
  {
   "cell_type": "code",
   "execution_count": 24,
   "metadata": {},
   "outputs": [],
   "source": [
    "training_df = get_passenger_title(training_df)\n",
    "test_df = get_passenger_title(test_df)"
   ]
  },
  {
   "cell_type": "markdown",
   "metadata": {},
   "source": [
    "Let's create an indicator variable for being a child."
   ]
  },
  {
   "cell_type": "code",
   "execution_count": 25,
   "metadata": {},
   "outputs": [],
   "source": [
    "def get_child_indicator(dataframe):\n",
    "    dataframe['Child'] = dataframe['Age'].apply(lambda x: 1 if x < 13 else 0)\n",
    "    return dataframe"
   ]
  },
  {
   "cell_type": "code",
   "execution_count": 26,
   "metadata": {},
   "outputs": [],
   "source": [
    "training_df = get_child_indicator(training_df)\n",
    "test_df = get_child_indicator(test_df)"
   ]
  },
  {
   "cell_type": "code",
   "execution_count": 27,
   "metadata": {},
   "outputs": [],
   "source": [
    "training_w_dummies = pd.get_dummies(training_df, drop_first=True)\n",
    "test_w_dummies = pd.get_dummies(test_df, drop_first=True)"
   ]
  },
  {
   "cell_type": "code",
   "execution_count": 28,
   "metadata": {},
   "outputs": [
    {
     "data": {
      "text/plain": [
       "True"
      ]
     },
     "execution_count": 28,
     "metadata": {},
     "output_type": "execute_result"
    }
   ],
   "source": [
    "all(training_df.drop('Survived', axis=1).columns == test_df.columns)"
   ]
  },
  {
   "cell_type": "code",
   "execution_count": 29,
   "metadata": {},
   "outputs": [
    {
     "name": "stdout",
     "output_type": "stream",
     "text": [
      "<class 'pandas.core.frame.DataFrame'>\n",
      "RangeIndex: 891 entries, 0 to 890\n",
      "Data columns (total 12 columns):\n",
      "Survived     891 non-null int64\n",
      "Pclass       891 non-null int64\n",
      "Sex          891 non-null object\n",
      "Age          891 non-null float64\n",
      "SibSp        891 non-null int64\n",
      "Parch        891 non-null int64\n",
      "Fare         891 non-null float64\n",
      "Embarked     891 non-null object\n",
      "Deck         891 non-null int32\n",
      "Relatives    891 non-null int64\n",
      "Title        891 non-null object\n",
      "Child        891 non-null int64\n",
      "dtypes: float64(2), int32(1), int64(6), object(3)\n",
      "memory usage: 80.2+ KB\n"
     ]
    }
   ],
   "source": [
    "training_df.info()"
   ]
  },
  {
   "cell_type": "markdown",
   "metadata": {},
   "source": [
    "## Summary\n",
    "\n",
    "I will leave my feature engineering for now. I have created two different types of dataframes, one with dummy variables from categorgorical data and one without, because I want to test an association between the categories and the target using chi-squared tests using the dataframe without dummy variables. The features I created were:\n",
    "\n",
    "- Ordinal Deck number from Cabin column.\n",
    "- Discrete Relatives column from combining Parch and SibSp.\n",
    "- Nominal Title column extracted from Name column.\n",
    "- Binary indicator for 'Child' (Age < 13).\n",
    "\n",
    "I had planned to create interaction variables but for now I won't do this but I will program my modelling to be able to use these terms if I do decide to create these variables."
   ]
  },
  {
   "cell_type": "code",
   "execution_count": 30,
   "metadata": {},
   "outputs": [],
   "source": [
    "PROCESSED_PATH = Path('../data/processed')\n",
    "training_df.to_csv(PROCESSED_PATH/'final_training.csv', index=False)\n",
    "test_df.to_csv(PROCESSED_PATH/'final_test.csv', index=False)\n",
    "training_w_dummies.to_csv(PROCESSED_PATH/'final_training_w_dummies.csv', index=False)\n",
    "test_w_dummies.to_csv(PROCESSED_PATH/'final_test_w_dummies.csv', index=False)"
   ]
  }
 ],
 "metadata": {
  "kernelspec": {
   "display_name": "berlin_airbnb",
   "language": "python",
   "name": "berlin_airbnb"
  },
  "language_info": {
   "codemirror_mode": {
    "name": "ipython",
    "version": 3
   },
   "file_extension": ".py",
   "mimetype": "text/x-python",
   "name": "python",
   "nbconvert_exporter": "python",
   "pygments_lexer": "ipython3",
   "version": "3.7.3"
  }
 },
 "nbformat": 4,
 "nbformat_minor": 2
}
